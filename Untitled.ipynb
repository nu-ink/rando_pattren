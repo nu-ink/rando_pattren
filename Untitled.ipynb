{
 "cells": [
  {
   "cell_type": "code",
   "execution_count": null,
   "id": "fbef3150-7957-44fe-84e3-848df0e64fdd",
   "metadata": {},
   "outputs": [],
   "source": []
  },
  {
   "cell_type": "code",
   "execution_count": 1,
   "id": "9ca9822b-7689-4bc5-9a64-74f37d44b4ab",
   "metadata": {},
   "outputs": [
    {
     "data": {
      "text/html": [
       "<div id=\"glowscript\" class=\"glowscript\"></div>"
      ],
      "text/plain": [
       "<IPython.core.display.HTML object>"
      ]
     },
     "metadata": {},
     "output_type": "display_data"
    },
    {
     "data": {
      "application/javascript": [
       "if (typeof Jupyter !== \"undefined\") { window.__context = { glowscript_container: $(\"#glowscript\").removeAttr(\"id\")};}else{ element.textContent = ' ';}"
      ],
      "text/plain": [
       "<IPython.core.display.Javascript object>"
      ]
     },
     "metadata": {},
     "output_type": "display_data"
    },
    {
     "data": {
      "text/html": [
       "<div id=\"glowscript\" class=\"glowscript\"></div>"
      ],
      "text/plain": [
       "<IPython.core.display.HTML object>"
      ]
     },
     "metadata": {},
     "output_type": "display_data"
    },
    {
     "data": {
      "application/javascript": [
       "if (typeof Jupyter !== \"undefined\") { window.__context = { glowscript_container: $(\"#glowscript\").removeAttr(\"id\")};}else{ element.textContent = ' ';}"
      ],
      "text/plain": [
       "<IPython.core.display.Javascript object>"
      ]
     },
     "metadata": {},
     "output_type": "display_data"
    },
    {
     "ename": "AttributeError",
     "evalue": "'vpython.cyvector.vector' object has no attribute 'incrementTriangleCount'",
     "output_type": "error",
     "traceback": [
      "\u001b[1;31m---------------------------------------------------------------------------\u001b[0m",
      "\u001b[1;31mAttributeError\u001b[0m                            Traceback (most recent call last)",
      "Cell \u001b[1;32mIn[1], line 62\u001b[0m\n\u001b[0;32m     59\u001b[0m     \u001b[38;5;28;01mreturn\u001b[39;00m faces\n\u001b[0;32m     61\u001b[0m \u001b[38;5;66;03m# Create the hexecontatetrahedron\u001b[39;00m\n\u001b[1;32m---> 62\u001b[0m hexecontatetrahedron \u001b[38;5;241m=\u001b[39m \u001b[43mcreate_hexecontatetrahedron\u001b[49m\u001b[43m(\u001b[49m\u001b[38;5;241;43m2\u001b[39;49m\u001b[43m,\u001b[49m\u001b[43m \u001b[49m\u001b[43mcolor\u001b[49m\u001b[38;5;241;43m.\u001b[39;49m\u001b[43mblue\u001b[49m\u001b[43m,\u001b[49m\u001b[43m \u001b[49m\u001b[38;5;241;43m0.7\u001b[39;49m\u001b[43m)\u001b[49m\n\u001b[0;32m     64\u001b[0m \u001b[38;5;66;03m# Global dictionary to keep track of key states\u001b[39;00m\n\u001b[0;32m     65\u001b[0m key_states \u001b[38;5;241m=\u001b[39m {}\n",
      "Cell \u001b[1;32mIn[1], line 53\u001b[0m, in \u001b[0;36mcreate_hexecontatetrahedron\u001b[1;34m(radius, face_color, face_opacity)\u001b[0m\n\u001b[0;32m     50\u001b[0m \u001b[38;5;28;01mfor\u001b[39;00m i \u001b[38;5;129;01min\u001b[39;00m \u001b[38;5;28mrange\u001b[39m(\u001b[38;5;241m0\u001b[39m, \u001b[38;5;28mlen\u001b[39m(vertices), \u001b[38;5;241m4\u001b[39m):\n\u001b[0;32m     51\u001b[0m     v \u001b[38;5;241m=\u001b[39m vertices[i:i\u001b[38;5;241m+\u001b[39m\u001b[38;5;241m4\u001b[39m]\n\u001b[0;32m     52\u001b[0m     faces\u001b[38;5;241m.\u001b[39mextend([\n\u001b[1;32m---> 53\u001b[0m         \u001b[43mtriangle\u001b[49m\u001b[43m(\u001b[49m\u001b[43mvs\u001b[49m\u001b[38;5;241;43m=\u001b[39;49m\u001b[43m[\u001b[49m\u001b[43mv\u001b[49m\u001b[43m[\u001b[49m\u001b[38;5;241;43m0\u001b[39;49m\u001b[43m]\u001b[49m\u001b[43m,\u001b[49m\u001b[43m \u001b[49m\u001b[43mv\u001b[49m\u001b[43m[\u001b[49m\u001b[38;5;241;43m1\u001b[39;49m\u001b[43m]\u001b[49m\u001b[43m,\u001b[49m\u001b[43m \u001b[49m\u001b[43mv\u001b[49m\u001b[43m[\u001b[49m\u001b[38;5;241;43m2\u001b[39;49m\u001b[43m]\u001b[49m\u001b[43m]\u001b[49m\u001b[43m,\u001b[49m\u001b[43m \u001b[49m\u001b[43mcolor\u001b[49m\u001b[38;5;241;43m=\u001b[39;49m\u001b[43mface_color\u001b[49m\u001b[43m,\u001b[49m\u001b[43m \u001b[49m\u001b[43mopacity\u001b[49m\u001b[38;5;241;43m=\u001b[39;49m\u001b[43mface_opacity\u001b[49m\u001b[43m)\u001b[49m,\n\u001b[0;32m     54\u001b[0m         triangle(vs\u001b[38;5;241m=\u001b[39m[v[\u001b[38;5;241m0\u001b[39m], v[\u001b[38;5;241m2\u001b[39m], v[\u001b[38;5;241m3\u001b[39m]], color\u001b[38;5;241m=\u001b[39mface_color, opacity\u001b[38;5;241m=\u001b[39mface_opacity),\n\u001b[0;32m     55\u001b[0m         triangle(vs\u001b[38;5;241m=\u001b[39m[v[\u001b[38;5;241m0\u001b[39m], v[\u001b[38;5;241m3\u001b[39m], v[\u001b[38;5;241m1\u001b[39m]], color\u001b[38;5;241m=\u001b[39mface_color, opacity\u001b[38;5;241m=\u001b[39mface_opacity),\n\u001b[0;32m     56\u001b[0m         triangle(vs\u001b[38;5;241m=\u001b[39m[v[\u001b[38;5;241m1\u001b[39m], v[\u001b[38;5;241m3\u001b[39m], v[\u001b[38;5;241m2\u001b[39m]], color\u001b[38;5;241m=\u001b[39mface_color, opacity\u001b[38;5;241m=\u001b[39mface_opacity)\n\u001b[0;32m     57\u001b[0m     ])\n\u001b[0;32m     59\u001b[0m \u001b[38;5;28;01mreturn\u001b[39;00m faces\n",
      "File \u001b[1;32m~\\AppData\\Local\\Programs\\Python\\Python310\\lib\\site-packages\\vpython\\vpython.py:1741\u001b[0m, in \u001b[0;36mtriangle.__init__\u001b[1;34m(self, **args)\u001b[0m\n\u001b[0;32m   1739\u001b[0m         args[vlist[i]] \u001b[38;5;241m=\u001b[39m val\n\u001b[0;32m   1740\u001b[0m     \u001b[38;5;28;01mdel\u001b[39;00m args[\u001b[38;5;124m'\u001b[39m\u001b[38;5;124mvs\u001b[39m\u001b[38;5;124m'\u001b[39m]\n\u001b[1;32m-> 1741\u001b[0m \u001b[38;5;28;43msuper\u001b[39;49m\u001b[43m(\u001b[49m\u001b[43mtriangle\u001b[49m\u001b[43m,\u001b[49m\u001b[43m \u001b[49m\u001b[38;5;28;43mself\u001b[39;49m\u001b[43m)\u001b[49m\u001b[38;5;241;43m.\u001b[39;49m\u001b[43msetup\u001b[49m\u001b[43m(\u001b[49m\u001b[43margs\u001b[49m\u001b[43m)\u001b[49m\n",
      "File \u001b[1;32m~\\AppData\\Local\\Programs\\Python\\Python310\\lib\\site-packages\\vpython\\vpython.py:713\u001b[0m, in \u001b[0;36mstandardAttributes.setup\u001b[1;34m(self, args)\u001b[0m\n\u001b[0;32m    711\u001b[0m \u001b[38;5;28;01mfor\u001b[39;00m a \u001b[38;5;129;01min\u001b[39;00m attrs:\n\u001b[0;32m    712\u001b[0m     \u001b[38;5;28;01mif\u001b[39;00m a \u001b[38;5;129;01min\u001b[39;00m args:\n\u001b[1;32m--> 713\u001b[0m         \u001b[38;5;28;43msetattr\u001b[39;49m\u001b[43m(\u001b[49m\u001b[38;5;28;43mself\u001b[39;49m\u001b[43m,\u001b[49m\u001b[43m \u001b[49m\u001b[43ma\u001b[49m\u001b[43m,\u001b[49m\u001b[43m \u001b[49m\u001b[43margs\u001b[49m\u001b[43m[\u001b[49m\u001b[43ma\u001b[49m\u001b[43m]\u001b[49m\u001b[43m)\u001b[49m  \u001b[38;5;66;03m## use setter to take care of side effects\u001b[39;00m\n\u001b[0;32m    714\u001b[0m         \u001b[38;5;28;01mif\u001b[39;00m scalarInteractions[a] \u001b[38;5;129;01mnot\u001b[39;00m \u001b[38;5;129;01min\u001b[39;00m argsToSend:\n\u001b[0;32m    715\u001b[0m             argsToSend\u001b[38;5;241m.\u001b[39mappend(scalarInteractions[a])  \u001b[38;5;66;03m# e.g. if a is radius, send size\u001b[39;00m\n",
      "File \u001b[1;32m~\\AppData\\Local\\Programs\\Python\\Python310\\lib\\site-packages\\vpython\\vpython.py:1758\u001b[0m, in \u001b[0;36mtriangle.v0\u001b[1;34m(self, value)\u001b[0m\n\u001b[0;32m   1756\u001b[0m     \u001b[38;5;28mself\u001b[39m\u001b[38;5;241m.\u001b[39maddattr(\u001b[38;5;124m'\u001b[39m\u001b[38;5;124mv0\u001b[39m\u001b[38;5;124m'\u001b[39m)\n\u001b[0;32m   1757\u001b[0m \u001b[38;5;28mself\u001b[39m\u001b[38;5;241m.\u001b[39m_v0 \u001b[38;5;241m=\u001b[39m value\n\u001b[1;32m-> 1758\u001b[0m \u001b[38;5;28;43mself\u001b[39;49m\u001b[38;5;241;43m.\u001b[39;49m\u001b[43m_v0\u001b[49m\u001b[38;5;241;43m.\u001b[39;49m\u001b[43mincrementTriangleCount\u001b[49m()\n",
      "\u001b[1;31mAttributeError\u001b[0m: 'vpython.cyvector.vector' object has no attribute 'incrementTriangleCount'"
     ]
    }
   ],
   "source": [
    "from vpython import canvas, vector, color, triangle, rate, scene\n",
    "import math\n",
    "import random\n",
    "import numpy as np\n",
    "\n",
    "# Set up the scene\n",
    "scene = canvas(title='Rotating Hexecontatetrahedron', width=800, height=600, center=vector(0, 0, 0), background=color.white)\n",
    "\n",
    "def create_hexecontatetrahedron(radius=1, face_color=color.blue, face_opacity=0.7):\n",
    "    \"\"\"\n",
    "    Create a hexecontatetrahedron with a given radius, face color, and opacity.\n",
    "    \n",
    "    Parameters:\n",
    "    radius (float): The radius to scale the vertices of the hexecontatetrahedron.\n",
    "    face_color (color): The color of the faces.\n",
    "    face_opacity (float): The opacity of the faces (0 to 1).\n",
    "    \n",
    "    Returns:\n",
    "    list: A list of triangle objects representing the hexecontatetrahedron.\n",
    "    \"\"\"\n",
    "    if radius <= 0:\n",
    "        raise ValueError(\"Radius must be positive\")\n",
    "    \n",
    "    if not 0 <= face_opacity <= 1:\n",
    "        raise ValueError(\"Opacity must be between 0 and 1\")\n",
    "\n",
    "    phi = (1 + math.sqrt(5)) / 2  # Golden ratio\n",
    "    \n",
    "    # Use numpy for efficient vertex generation\n",
    "    x = np.array([-1, 1])\n",
    "    y = np.array([-1, 1])\n",
    "    z = np.array([-1, 1])\n",
    "    \n",
    "    vertices = []\n",
    "    for i in x:\n",
    "        for j in y:\n",
    "            for k in z:\n",
    "                vertices.extend([\n",
    "                    vector(i, j, k),\n",
    "                    vector(0, i * phi, j / phi),\n",
    "                    vector(i / phi, 0, j * phi),\n",
    "                    vector(i * phi, j / phi, 0)\n",
    "                ])\n",
    "\n",
    "    # Scale vertices\n",
    "    vertices = [v.norm() * radius for v in vertices]\n",
    "    \n",
    "    # Create faces\n",
    "    faces = []\n",
    "    for i in range(0, len(vertices), 4):\n",
    "        v = vertices[i:i+4]\n",
    "        faces.extend([\n",
    "            triangle(vs=[v[0], v[1], v[2]], color=face_color, opacity=face_opacity),\n",
    "            triangle(vs=[v[0], v[2], v[3]], color=face_color, opacity=face_opacity),\n",
    "            triangle(vs=[v[0], v[3], v[1]], color=face_color, opacity=face_opacity),\n",
    "            triangle(vs=[v[1], v[3], v[2]], color=face_color, opacity=face_opacity)\n",
    "        ])\n",
    "    \n",
    "    return faces\n",
    "\n",
    "# Create the hexecontatetrahedron\n",
    "hexecontatetrahedron = create_hexecontatetrahedron(2, color.blue, 0.7)\n",
    "\n",
    "# Global dictionary to keep track of key states\n",
    "key_states = {}\n",
    "\n",
    "def keydown(evt):\n",
    "    \"\"\"Handler for keydown events\"\"\"\n",
    "    key_states[evt.key] = True\n",
    "\n",
    "def keyup(evt):\n",
    "    \"\"\"Handler for keyup events\"\"\"\n",
    "    key_states[evt.key] = False\n",
    "\n",
    "# Bind the keydown and keyup handlers to the scene\n",
    "scene.bind('keydown', keydown)\n",
    "scene.bind('keyup', keyup)\n",
    "\n",
    "def keysdown():\n",
    "    \"\"\"Returns a list of currently pressed keys\"\"\"\n",
    "    return [key for key, pressed in key_states.items() if pressed]\n",
    "\n",
    "# Animation settings\n",
    "rotation_speed = 0.02\n",
    "pause = False\n",
    "recent_key_press = {key: False for key in ['p', 'c', 'r']}\n",
    "\n",
    "# Animation loop\n",
    "try:\n",
    "    while True:\n",
    "        rate(30)  # 30 frames per second\n",
    "        \n",
    "        # Handle keyboard input\n",
    "        keys = keysdown()\n",
    "        \n",
    "        if 'q' in keys:  # Quit\n",
    "            break\n",
    "        elif 'p' in keys and not recent_key_press['p']:  # Pause/Resume\n",
    "            pause = not pause\n",
    "            recent_key_press['p'] = True\n",
    "            scene.sleep(0.2)  # 200ms delay\n",
    "        elif 'r' in keys and not recent_key_press['r']:  # Reset rotation\n",
    "            for face in hexecontatetrahedron:\n",
    "                face.rotate(angle=-face.orientation.angle, axis=face.orientation.axis)\n",
    "            recent_key_press['r'] = True\n",
    "            scene.sleep(0.2)  # 200ms delay\n",
    "        elif 'c' in keys and not recent_key_press['c']:  # Change color\n",
    "            new_color = vector(random.random(), random.random(), random.random())\n",
    "            for face in hexecontatetrahedron:\n",
    "                face.color = new_color\n",
    "            recent_key_press['c'] = True\n",
    "            scene.sleep(0.2)  # 200ms delay\n",
    "        elif 'up' in keys:  # Increase rotation speed\n",
    "            rotation_speed *= 1.1\n",
    "        elif 'down' in keys:  # Decrease rotation speed\n",
    "            rotation_speed /= 1.1\n",
    "        \n",
    "        # Reset recent key press flags\n",
    "        for key in recent_key_press:\n",
    "            if key not in keys:\n",
    "                recent_key_press[key] = False\n",
    "        \n",
    "        # Rotate if not paused\n",
    "        if not pause:\n",
    "            for face in hexecontatetrahedron:\n",
    "                face.rotate(angle=rotation_speed, axis=vector(0, 1, 0))\n",
    "\n",
    "except Exception as e:\n",
    "    print(f\"An error occurred: {e}\")\n",
    "\n",
    "finally:\n",
    "    print(\"Animation ended\")\n",
    "    print(f\"Final rotation speed: {rotation_speed:.4f}\")"
   ]
  },
  {
   "cell_type": "code",
   "execution_count": null,
   "id": "51aa79f1-ef6c-4b85-94aa-25578e7ab6b8",
   "metadata": {},
   "outputs": [],
   "source": []
  },
  {
   "cell_type": "code",
   "execution_count": null,
   "id": "5b71bcaf-c31d-41c4-b6cf-8d88362ec941",
   "metadata": {},
   "outputs": [],
   "source": []
  }
 ],
 "metadata": {
  "kernelspec": {
   "display_name": "Python 3 (ipykernel)",
   "language": "python",
   "name": "python3"
  },
  "language_info": {
   "codemirror_mode": {
    "name": "ipython",
    "version": 3
   },
   "file_extension": ".py",
   "mimetype": "text/x-python",
   "name": "python",
   "nbconvert_exporter": "python",
   "pygments_lexer": "ipython3",
   "version": "3.10.1"
  }
 },
 "nbformat": 4,
 "nbformat_minor": 5
}
